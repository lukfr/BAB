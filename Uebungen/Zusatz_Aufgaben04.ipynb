{
 "cells": [
  {
   "cell_type": "markdown",
   "source": [
    "Zusatzaufgaben des Kurses Business Analytics B aus:\n",
    "Quelle: SEVERANCE, Charles R., 2021. Python für alle: Einführung in die Datenanalyse mit Python 3 \\[online\\]. Verfügbar unter: http://do1.dr-chuck.com/pythonlearn/DE_de/pythonlearn.pdf\n",
    "Kapitel 04 functions"
   ],
   "metadata": {
    "collapsed": false,
    "pycharm": {
     "name": "#%% md\n"
    }
   }
  },
  {
   "cell_type": "markdown",
   "source": [
    "**Übung 6: Schreiben Sie ihr Programm zur Lohnberechnung (mit 1,4-fachem\n",
    "Stundenlohn bei Überstunden) um. Ergänzen Sie eine Funktion\n",
    "`lohnberechnung`, welche die beiden Parameter `arbeitsstunden` und\n",
    "`stundenlohn` entgegennimmt**\n",
    "\n",
    "    Anzahl Arbeitsstunden: 45\n",
    "    Stundenlohn: 10\n",
    "    Monatsgehalt: 470.0\n"
   ],
   "metadata": {
    "collapsed": false,
    "pycharm": {
     "name": "#%% md\n"
    }
   }
  },
  {
   "cell_type": "code",
   "execution_count": 3,
   "outputs": [
    {
     "name": "stdout",
     "output_type": "stream",
     "text": [
      "Monatsgehalt: 470.0\n"
     ]
    }
   ],
   "source": [
    "def lohnberechnung (arbeitsstunden, stundenlohn):\n",
    "    if arbeitsstunden > 40:\n",
    "        return (arbeitsstunden-40)*1.4 *stundenlohn + 40 * stundenlohn\n",
    "    else:\n",
    "        return arbeitsstunden * stundenlohn\n",
    "\n",
    "try:\n",
    "    arbeitstunden = float(input(\"Anzahl Arbeitsstunden: \"))\n",
    "    stundenlohn = float(input(\"Stundenlohn: \"))\n",
    "except:\n",
    "    print(\"Bitte zahlen eingeben\")\n",
    "else:\n",
    "    monatsgehalt =  round(lohnberechnung(arbeitstunden,stundenlohn),2)\n",
    "    print(\"Monatsgehalt:\",monatsgehalt)"
   ],
   "metadata": {
    "collapsed": false,
    "pycharm": {
     "name": "#%%\n"
    }
   }
  },
  {
   "cell_type": "markdown",
   "source": [
    "**Übung 7: Schreiben Sie das Benotungsprogramm aus dem vorigen Kapitel\n",
    "neu, indem Sie eine Funktion namens `notenberechnung` verwenden, die\n",
    "eine Punktzahl als Parameter annimmt und eine Note zurückgibt.**\n",
    "\n",
    "    Punkte   Note\n",
    "    >= 0.9     1\n",
    "    >= 0.8     2\n",
    "    >= 0.7     3\n",
    "    >= 0.6     4\n",
    "     < 0.6     5\n",
    "\n",
    "Führen Sie das Programm wiederholt aus, um die verschiedenen Werte für\n",
    "die Eingabe zu testen:\n",
    "\n",
    "    Punkte eingeben: 0.95\n",
    "    1\n",
    "\n",
    "    Punkte eingeben: perfekt\n",
    "    Falsche Punktanzahl\n",
    "\n",
    "    Punkte eingeben: 10.0\n",
    "    Falsche Punktanzahl\n",
    "\n",
    "    Punkte eingeben: 0.75\n",
    "    3\n",
    "\n",
    "    Punkte eingeben: 0.5\n",
    "    5"
   ],
   "metadata": {
    "collapsed": false,
    "pycharm": {
     "name": "#%% md\n"
    }
   }
  },
  {
   "cell_type": "code",
   "execution_count": 11,
   "outputs": [
    {
     "name": "stdout",
     "output_type": "stream",
     "text": [
      "Falsche Punktzahl\n"
     ]
    }
   ],
   "source": [
    "def notenberechnung (punktzahl):\n",
    "    if punktzahl < 0.0 or punktzahl > 1.0:\n",
    "        return \"Falsche Punktzahl\"\n",
    "    elif punktzahl >= 0.9:\n",
    "        return 1\n",
    "    elif punktzahl >= 0.8:\n",
    "        return 2\n",
    "    elif punktzahl >= 0.7:\n",
    "        return 3\n",
    "    elif punktzahl >= 0.6:\n",
    "        return 4\n",
    "    elif punktzahl < 0.6:\n",
    "        return 5\n",
    "\n",
    "try:\n",
    "    punkte = float(input(\"Punkte eingeben: \"))\n",
    "except:\n",
    "    print(\"Falsche Punktzahl\")\n",
    "else:\n",
    "    print(notenberechnung(punkte))"
   ],
   "metadata": {
    "collapsed": false,
    "pycharm": {
     "name": "#%%\n"
    }
   }
  }
 ],
 "metadata": {
  "kernelspec": {
   "display_name": "Python 3",
   "language": "python",
   "name": "python3"
  },
  "language_info": {
   "codemirror_mode": {
    "name": "ipython",
    "version": 2
   },
   "file_extension": ".py",
   "mimetype": "text/x-python",
   "name": "python",
   "nbconvert_exporter": "python",
   "pygments_lexer": "ipython2",
   "version": "2.7.6"
  }
 },
 "nbformat": 4,
 "nbformat_minor": 0
}