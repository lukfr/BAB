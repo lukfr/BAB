{
 "cells": [
  {
   "cell_type": "markdown",
   "source": [
    "Zusatzaufgaben des Kurses Business Analytics B aus:\n",
    "Quelle: SEVERANCE, Charles R., 2021. Python für alle: Einführung in die Datenanalyse mit Python 3 \\[online\\]. Verfügbar unter: http://do1.dr-chuck.com/pythonlearn/DE_de/pythonlearn.pdf\n",
    "Kapitel 08 lists"
   ],
   "metadata": {
    "collapsed": false,
    "pycharm": {
     "name": "#%% md\n"
    }
   }
  },
  {
   "cell_type": "markdown",
   "source": [
    "**Übung 1: Schreiben Sie eine Funktion namens `remove_all`, die eine\n",
    "Liste und einen Wert entgegennimmt und alle Vorkommen des Wertes aus der\n",
    "Liste entfernt. Die Funktion soll die Liste *In-Place* verändern und als\n",
    "Ergebnis `None` zurückgeben.**"
   ],
   "metadata": {
    "collapsed": false,
    "pycharm": {
     "name": "#%% md\n"
    }
   }
  },
  {
   "cell_type": "code",
   "execution_count": 8,
   "outputs": [
    {
     "name": "stdout",
     "output_type": "stream",
     "text": [
      "['b', 'c', 'd']\n"
     ]
    }
   ],
   "source": [
    "def remove_all (list_to_be_check, value_to_be_removed):\n",
    "\n",
    "    for i,entry in enumerate(list_to_be_check):\n",
    "        if entry == value_to_be_removed:\n",
    "            del list_to_be_check[i]\n",
    "    return None\n",
    "#Test\n",
    "list_test = [\"a\",\"b\",\"c\",\"a\",\"d\"]\n",
    "value = \"a\"\n",
    "\n",
    "remove_all(list_test,value)\n",
    "print(list_test)\n"
   ],
   "metadata": {
    "collapsed": false,
    "pycharm": {
     "name": "#%%\n"
    }
   }
  },
  {
   "cell_type": "markdown",
   "source": [
    "**Übung 2: Schreiben Sie eine Funktion namens `chop`, die eine Liste\n",
    "entgegennimmt und sie modifiziert, indem sie das erste und letzte\n",
    "Element entfernt und `None` zurückgibt. Schreiben Sie dann eine Funktion\n",
    "namens `middle`, die eine Liste annimmt und eine neue Liste zurückgibt,\n",
    "die alle Elemente außer dem ersten und letzten enthält.**"
   ],
   "metadata": {
    "collapsed": false,
    "pycharm": {
     "name": "#%% md\n"
    }
   }
  },
  {
   "cell_type": "code",
   "execution_count": 9,
   "outputs": [
    {
     "name": "stdout",
     "output_type": "stream",
     "text": [
      "['b', 'c', 'a']\n"
     ]
    }
   ],
   "source": [
    "def chop (list_to_be_modified):\n",
    "    del list_to_be_modified[0]\n",
    "    del list_to_be_modified[len(list_to_be_modified)-1]\n",
    "    return  None\n",
    "#Test\n",
    "list_test = [\"a\",\"b\",\"c\",\"a\",\"d\"]\n",
    "chop(list_test)\n",
    "print(list_test)"
   ],
   "metadata": {
    "collapsed": false,
    "pycharm": {
     "name": "#%%\n"
    }
   }
  },
  {
   "cell_type": "code",
   "execution_count": 11,
   "outputs": [
    {
     "name": "stdout",
     "output_type": "stream",
     "text": [
      "['a', 'b', 'c', 'a', 'd']\n",
      "['b', 'c', 'a']\n"
     ]
    }
   ],
   "source": [
    "def middle (list_to_be_modified):\n",
    "    return list_to_be_modified[1:len(list_to_be_modified)-1]\n",
    "#Test\n",
    "list_test = [\"a\",\"b\",\"c\",\"a\",\"d\"]\n",
    "new_list = middle(list_test)\n",
    "print(list_test)\n",
    "print(new_list)"
   ],
   "metadata": {
    "collapsed": false,
    "pycharm": {
     "name": "#%%\n"
    }
   }
  },
  {
   "cell_type": "code",
   "execution_count": null,
   "outputs": [],
   "source": [],
   "metadata": {
    "collapsed": false,
    "pycharm": {
     "name": "#%%\n"
    }
   }
  }
 ],
 "metadata": {
  "kernelspec": {
   "display_name": "Python 3",
   "language": "python",
   "name": "python3"
  },
  "language_info": {
   "codemirror_mode": {
    "name": "ipython",
    "version": 2
   },
   "file_extension": ".py",
   "mimetype": "text/x-python",
   "name": "python",
   "nbconvert_exporter": "python",
   "pygments_lexer": "ipython2",
   "version": "2.7.6"
  }
 },
 "nbformat": 4,
 "nbformat_minor": 0
}