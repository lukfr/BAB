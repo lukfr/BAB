{
 "cells": [
  {
   "cell_type": "markdown",
   "source": [
    "Zusatzaufgaben des Kurses Business Analytics B aus:\n",
    "Quelle: SEVERANCE, Charles R., 2021. Python für alle: Einführung in die Datenanalyse mit Python 3 \\[online\\]. Verfügbar unter: http://do1.dr-chuck.com/pythonlearn/DE_de/pythonlearn.pdf\n",
    "Kapitel 08 lists"
   ],
   "metadata": {
    "collapsed": false,
    "pycharm": {
     "name": "#%% md\n"
    }
   }
  },
  {
   "cell_type": "code",
   "execution_count": null,
   "outputs": [],
   "source": [],
   "metadata": {
    "collapsed": false,
    "pycharm": {
     "name": "#%%\n"
    }
   }
  }
 ],
 "metadata": {
  "kernelspec": {
   "display_name": "Python 3",
   "language": "python",
   "name": "python3"
  },
  "language_info": {
   "codemirror_mode": {
    "name": "ipython",
    "version": 2
   },
   "file_extension": ".py",
   "mimetype": "text/x-python",
   "name": "python",
   "nbconvert_exporter": "python",
   "pygments_lexer": "ipython2",
   "version": "2.7.6"
  }
 },
 "nbformat": 4,
 "nbformat_minor": 0
}