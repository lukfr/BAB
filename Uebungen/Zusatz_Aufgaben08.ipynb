{
 "cells": [
  {
   "cell_type": "markdown",
   "source": [
    "Zusatzaufgaben des Kurses Business Analytics B aus:\n",
    "Quelle: SEVERANCE, Charles R., 2021. Python für alle: Einführung in die Datenanalyse mit Python 3 \\[online\\]. Verfügbar unter: http://do1.dr-chuck.com/pythonlearn/DE_de/pythonlearn.pdf\n",
    "Kapitel 08 lists"
   ],
   "metadata": {
    "collapsed": false,
    "pycharm": {
     "name": "#%% md\n"
    }
   }
  },
  {
   "cell_type": "markdown",
   "source": [
    "**Übung 1: Schreiben Sie eine Funktion namens `remove_all`, die eine\n",
    "Liste und einen Wert entgegennimmt und alle Vorkommen des Wertes aus der\n",
    "Liste entfernt. Die Funktion soll die Liste *In-Place* verändern und als\n",
    "Ergebnis `None` zurückgeben.**"
   ],
   "metadata": {
    "collapsed": false,
    "pycharm": {
     "name": "#%% md\n"
    }
   }
  },
  {
   "cell_type": "code",
   "execution_count": 8,
   "outputs": [
    {
     "name": "stdout",
     "output_type": "stream",
     "text": [
      "['b', 'c', 'd']\n"
     ]
    }
   ],
   "source": [
    "def remove_all (list_to_be_check, value_to_be_removed):\n",
    "\n",
    "    for i,entry in enumerate(list_to_be_check):\n",
    "        if entry == value_to_be_removed:\n",
    "            del list_to_be_check[i]\n",
    "    return None\n",
    "#Test\n",
    "list_test = [\"a\",\"b\",\"c\",\"a\",\"d\"]\n",
    "value = \"a\"\n",
    "\n",
    "remove_all(list_test,value)\n",
    "print(list_test)\n"
   ],
   "metadata": {
    "collapsed": false,
    "pycharm": {
     "name": "#%%\n"
    }
   }
  },
  {
   "cell_type": "markdown",
   "source": [
    "**Übung 2: Schreiben Sie eine Funktion namens `chop`, die eine Liste\n",
    "entgegennimmt und sie modifiziert, indem sie das erste und letzte\n",
    "Element entfernt und `None` zurückgibt. Schreiben Sie dann eine Funktion\n",
    "namens `middle`, die eine Liste annimmt und eine neue Liste zurückgibt,\n",
    "die alle Elemente außer dem ersten und letzten enthält.**"
   ],
   "metadata": {
    "collapsed": false,
    "pycharm": {
     "name": "#%% md\n"
    }
   }
  },
  {
   "cell_type": "code",
   "execution_count": 9,
   "outputs": [
    {
     "name": "stdout",
     "output_type": "stream",
     "text": [
      "['b', 'c', 'a']\n"
     ]
    }
   ],
   "source": [
    "def chop (list_to_be_modified):\n",
    "    del list_to_be_modified[0]\n",
    "    del list_to_be_modified[len(list_to_be_modified)-1]\n",
    "    return  None\n",
    "#Test\n",
    "list_test = [\"a\",\"b\",\"c\",\"a\",\"d\"]\n",
    "chop(list_test)\n",
    "print(list_test)"
   ],
   "metadata": {
    "collapsed": false,
    "pycharm": {
     "name": "#%%\n"
    }
   }
  },
  {
   "cell_type": "code",
   "execution_count": 11,
   "outputs": [
    {
     "name": "stdout",
     "output_type": "stream",
     "text": [
      "['a', 'b', 'c', 'a', 'd']\n",
      "['b', 'c', 'a']\n"
     ]
    }
   ],
   "source": [
    "def middle (list_to_be_modified):\n",
    "    return list_to_be_modified[1:len(list_to_be_modified)-1]\n",
    "#Test\n",
    "list_test = [\"a\",\"b\",\"c\",\"a\",\"d\"]\n",
    "new_list = middle(list_test)\n",
    "print(list_test)\n",
    "print(new_list)"
   ],
   "metadata": {
    "collapsed": false,
    "pycharm": {
     "name": "#%%\n"
    }
   }
  },
  {
   "cell_type": "markdown",
   "source": [],
   "metadata": {
    "collapsed": false,
    "pycharm": {
     "name": "#%% md\n"
    }
   }
  },
  {
   "cell_type": "code",
   "execution_count": 22,
   "outputs": [
    {
     "name": "stdout",
     "output_type": "stream",
     "text": [
      "['Arise', 'But', 'It', 'Juliet', 'Who', 'already', 'and', 'breaks', 'east', 'envious', 'fair', 'grief', 'is', 'kill', 'light', 'moon', 'pale', 'sick', 'soft', 'sun', 'the', 'through', 'what', 'window', 'with', 'yonder']\n"
     ]
    }
   ],
   "source": [
    "romeo = open('romeo.txt')\n",
    "unique_words = []\n",
    "for lines in romeo:\n",
    "    line_as_list = lines.split()\n",
    "    for word in line_as_list:\n",
    "        if not word in unique_words:\n",
    "            unique_words.append(word)\n",
    "unique_words.sort()\n",
    "print(unique_words )"
   ],
   "metadata": {
    "collapsed": false,
    "pycharm": {
     "name": "#%%\n"
    }
   }
  },
  {
   "cell_type": "markdown",
   "source": [
    "**Übung 6: Ein minimalistischer E-Mail-Client.**\n",
    "\n",
    "**MBOX (Mailbox) ist ein beliebtes Dateiformat zum Speichern und\n",
    "Freigeben einer Sammlung von E-Mails. Dies wurde von frühen\n",
    "E-Mail-Servern und Desktop-Apps verwendet. Ohne zu sehr ins Detail zu\n",
    "gehen, ist MBOX eine Textdatei, die E-Mails fortlaufend speichert.\n",
    "E-Mails werden durch eine spezielle Zeile voneinander getrennt, die mit\n",
    "`From` beginnt (beachten Sie das Leerzeichen). Wichtig ist, dass Zeilen,\n",
    "die mit `From:` beginnen (beachten Sie den Doppelpunkt), die E-Mail\n",
    "selbst beschreiben und nicht als Trennzeichen fungieren. Stellen Sie\n",
    "sich vor, Sie schreiben eine minimalistische E-Mail-App, die die E-Mails\n",
    "der Absender im Posteingang des Benutzers auflistet und die Anzahl der\n",
    "E-Mails zählt.**\n",
    "\n",
    "**Schreiben Sie ein Programm, das die Daten der Mailbox durchläuft, und\n",
    "wenn Sie eine Zeile finden, die mit `From` beginnt, teilen Sie die Zeile\n",
    "mit der Funktion `split` in Wörter auf. Wir sind daran interessiert, wer\n",
    "die Nachricht gesendet hat, also was das zweite Wort in der `From`-Zeile\n",
    "ist.**\n",
    "\n",
    "    From stephen.marquard@uct.ac.za Sat Jan 5 09:14:16 2008\n",
    "\n",
    "**Sie parsen die From-Zeile und geben das zweite Wort für jede\n",
    "From-Zeile aus, dann zählen Sie auch die Anzahl der From-Zeilen (nicht\n",
    "`From:`) und geben am Ende die Anzahl aus. Dies ist eine\n",
    "Beispielausgabe, bei der ein paar Zeilen entfernt wurden:**\n",
    "\n",
    "    python fromcount.py\n",
    "    Gib eine Datei an: mbox-short.txt\n",
    "    stephen.marquard@uct.ac.za\n",
    "    louis@media.berkeley.edu\n",
    "    zqian@umich.edu\n",
    "\n",
    "    [...some output removed...]\n",
    "\n",
    "    ray@media.berkeley.edu\n",
    "    cwen@iupui.edu\n",
    "    cwen@iupui.edu\n",
    "    cwen@iupui.edu\n",
    "    Es gibt 27 Zeilen mit 'From' als erstem Wort."
   ],
   "metadata": {
    "collapsed": false,
    "pycharm": {
     "name": "#%% md\n"
    }
   }
  },
  {
   "cell_type": "code",
   "execution_count": 40,
   "outputs": [
    {
     "name": "stdout",
     "output_type": "stream",
     "text": [
      "stephen.marquard@uct.ac.za\n",
      "louis@media.berkeley.edu\n",
      "zqian@umich.edu\n",
      "rjlowe@iupui.edu\n",
      "zqian@umich.edu\n",
      "rjlowe@iupui.edu\n",
      "cwen@iupui.edu\n",
      "cwen@iupui.edu\n",
      "gsilver@umich.edu\n",
      "gsilver@umich.edu\n",
      "zqian@umich.edu\n",
      "gsilver@umich.edu\n",
      "wagnermr@iupui.edu\n",
      "zqian@umich.edu\n",
      "antranig@caret.cam.ac.uk\n",
      "gopal.ramasammycook@gmail.com\n",
      "david.horwitz@uct.ac.za\n",
      "david.horwitz@uct.ac.za\n",
      "david.horwitz@uct.ac.za\n",
      "david.horwitz@uct.ac.za\n",
      "stephen.marquard@uct.ac.za\n",
      "louis@media.berkeley.edu\n",
      "louis@media.berkeley.edu\n",
      "ray@media.berkeley.edu\n",
      "cwen@iupui.edu\n",
      "cwen@iupui.edu\n",
      "cwen@iupui.edu\n",
      "Es gibt 27 Zeilen mit 'From' als erstem Wort.\n"
     ]
    }
   ],
   "source": [
    "mailbox = open('mbox-short.txt')\n",
    "counter = 0\n",
    "for line in mailbox:\n",
    "    words = line.split()\n",
    "    if not words:           #Check if line is empty\n",
    "        continue\n",
    "    #print(words[0],\"test\",words[1])\n",
    "    if words[0] == \"From\":\n",
    "        print(words[1])\n",
    "        counter += 1\n",
    "print(f\"Es gibt {counter} Zeilen mit 'From' als erstem Wort.\")"
   ],
   "metadata": {
    "collapsed": false,
    "pycharm": {
     "name": "#%%\n"
    }
   }
  },
  {
   "cell_type": "markdown",
   "source": [
    "**Übung 7: Schreiben Sie das Programm um, das den Benutzer zur Eingabe\n",
    "einer Liste von Zahlen auffordert und am Ende das Maximum und Minimum\n",
    "der Zahlen ausgibt, wenn der Benutzer „done“ eingibt. Schreiben Sie das\n",
    "Programm so, dass es die Zahlen, die der Benutzer eingibt, in einer\n",
    "Liste speichert und die Funktionen `max()` und `min()` verwendet, um die\n",
    "größte und kleinste Zahl nach Abschluss der Schleife zu ermitteln.**\n",
    "\n",
    "    Bitte eine Zahl eingeben: 6\n",
    "    Bitte eine Zahl eingeben: 2\n",
    "    Bitte eine Zahl eingeben: 9\n",
    "    Bitte eine Zahl eingeben: 3\n",
    "    Bitte eine Zahl eingeben: 5\n",
    "    Bitte eine Zahl eingeben: done\n",
    "    Maximum: 9.0\n",
    "    Minimum: 2.0"
   ],
   "metadata": {
    "collapsed": false,
    "pycharm": {
     "name": "#%% md\n"
    }
   }
  },
  {
   "cell_type": "code",
   "execution_count": 46,
   "outputs": [
    {
     "name": "stdout",
     "output_type": "stream",
     "text": [
      "Bitte eine Zahl oder done eingeben. Ihre Eeingabe: test\n",
      "Maximum: 5.0\n",
      "Minimum: -1.0\n"
     ]
    }
   ],
   "source": [
    "numbers = []\n",
    "while True:\n",
    "    inp = input(\"Bitte eine Zahl eingeben: \")\n",
    "    try:\n",
    "        if inp == \"done\" and not numbers:\n",
    "            print(\"Keine Zahlen eingegeben\")\n",
    "            break\n",
    "        elif inp == \"done\":\n",
    "            print(\"Maximum:\",max(numbers))\n",
    "            print(\"Minimum:\",min(numbers))\n",
    "            break\n",
    "        else:\n",
    "            inp = float(inp)\n",
    "            numbers.append(inp)\n",
    "    except:\n",
    "        print(f\"Bitte eine Zahl oder done eingeben. Ihre Eingabe: {inp}\")"
   ],
   "metadata": {
    "collapsed": false,
    "pycharm": {
     "name": "#%%\n"
    }
   }
  }
 ],
 "metadata": {
  "kernelspec": {
   "display_name": "Python 3",
   "language": "python",
   "name": "python3"
  },
  "language_info": {
   "codemirror_mode": {
    "name": "ipython",
    "version": 2
   },
   "file_extension": ".py",
   "mimetype": "text/x-python",
   "name": "python",
   "nbconvert_exporter": "python",
   "pygments_lexer": "ipython2",
   "version": "2.7.6"
  }
 },
 "nbformat": 4,
 "nbformat_minor": 0
}