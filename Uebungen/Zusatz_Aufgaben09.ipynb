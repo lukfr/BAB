{
 "cells": [
  {
   "cell_type": "markdown",
   "source": [
    "Zusatzaufgaben des Kurses Business Analytics B aus:\n",
    "Quelle: SEVERANCE, Charles R., 2021. Python für alle: Einführung in die Datenanalyse mit Python 3 \\[online\\]. Verfügbar unter: http://do1.dr-chuck.com/pythonlearn/DE_de/pythonlearn.pdf\n",
    "Kapitel 09 dictionaries"
   ],
   "metadata": {
    "collapsed": false,
    "pycharm": {
     "name": "#%% md\n"
    }
   }
  },
  {
   "cell_type": "markdown",
   "source": [
    "**Übung 1: Laden Sie diese Datei herunter:**\n",
    "[tiny.one/py4de/code3/words.txt](https://tiny.one/py4de/code3/words.txt)\n",
    "\n",
    "**Schreiben Sie ein Programm, das die Wörter in `words.txt` liest und\n",
    "sie als Schlüssel in einem Dictionary speichert. Es spielt keine Rolle,\n",
    "wie die Werte lauten. Dann können Sie den `in`-Operator als schnelle\n",
    "Möglichkeit verwenden, um zu prüfen, ob eine Zeichenfolge im Dictionary\n",
    "enthalten ist.**"
   ],
   "metadata": {
    "collapsed": false,
    "pycharm": {
     "name": "#%% md\n"
    }
   }
  },
  {
   "cell_type": "code",
   "execution_count": 6,
   "outputs": [
    {
     "name": "stdout",
     "output_type": "stream",
     "text": [
      "True\n",
      "{'Das': 'inital', 'Schreiben': 'inital', 'von': 'inital', 'Programmen': 'inital', '(oder': 'inital', 'Programmieren)': 'inital', 'ist': 'inital', 'eine': 'inital', 'sehr': 'inital', 'kreative': 'inital', 'und': 'inital', 'lohnende': 'inital', 'TÃ¤tigkeit.': 'inital', 'Wir': 'inital', 'kÃ¶nnen': 'inital', 'Programme': 'inital', 'aus': 'inital', 'vielen': 'inital', 'GrÃ¼nden': 'inital', 'schreiben,': 'inital', 'angefangen': 'inital', 'mit': 'inital', 'dem': 'inital', 'Ziel,': 'inital', 'damit': 'inital', 'den': 'inital', 'Lebensunterhalt': 'inital', 'zu': 'inital', 'verdienen,': 'inital', 'ein': 'inital', 'schwieriges': 'inital', 'Datenanalyseproblem': 'inital', 'lÃ¶sen,': 'inital', 'SpaÃŸ': 'inital', 'haben': 'inital', 'oder': 'inital', 'um': 'inital', 'jemand': 'inital', 'anderem': 'inital', 'bei': 'inital', 'der': 'inital', 'LÃ¶sung': 'inital', 'eines': 'inital', 'Problems': 'inital', 'helfen.': 'inital', 'Dieses': 'inital', 'Buch': 'inital', 'geht': 'inital', 'davon': 'inital', 'aus,': 'inital', 'dass': 'inital', '{\\\\em': 'inital', 'jeder}': 'inital', 'wissen': 'inital', 'sollte,': 'inital', 'wie': 'inital', 'man': 'inital', 'programmiert,': 'inital', 'man,': 'inital', 'sobald': 'inital', 'die': 'inital', 'Programmierung': 'inital', 'beherrscht,': 'inital', 'herausfindet,': 'inital', 'was': 'inital', 'neugewonnenen': 'inital', 'FÃ¤higkeiten': 'inital', 'machen': 'inital', 'kann.': 'inital', 'sind': 'inital', 'in': 'inital', 'unserem': 'inital', 'tÃ¤glichen': 'inital', 'Leben': 'inital', 'Computern': 'inital', 'umgeben,': 'inital', 'Laptops': 'inital', 'bis': 'inital', 'hin': 'inital', 'Handys.': 'inital', 'nehmen': 'inital', 'diese': 'inital', 'Computer': 'inital', 'als': 'inital', 'unsere': 'inital', 'persÃ¶nlichen': 'inital', 'Assistenten': 'inital', 'war,': 'inital', 'viele': 'inital', 'Dinge': 'inital', 'fÃ¼r': 'inital', 'uns': 'inital', 'erledigen': 'inital', 'kÃ¶nnen.': 'inital', 'Die': 'inital', 'Hardware': 'inital', 'unseren': 'inital', 'heutigen': 'inital', 'im': 'inital', 'Wesentlichen': 'inital', 'so': 'inital', 'gebaut,': 'inital', 'sie': 'inital', 'stÃ¤ndig': 'inital', 'Frage': 'inital', 'stellt:': 'inital', 'Was': 'inital', 'soll': 'inital', 'ich': 'inital', 'NÃ¤chstes': 'inital', 'tun?': 'inital', 'Programmierer': 'inital', 'fÃ¼gen': 'inital', 'Betriebssystem': 'inital', 'Reihe': 'inital', 'Anwendungen': 'inital', 'hinzu,': 'inital', 'schon': 'inital', 'wir': 'inital', 'einen': 'inital', 'digitalen': 'inital', 'Assistenten,': 'inital', 'Problemen': 'inital', 'des': 'inital', 'Alltags': 'inital', 'nÃ¼tzlich': 'inital', 'sein': 'inital', 'Unsere': 'inital', 'schnell': 'inital', 'riesige': 'inital', 'Mengen': 'inital', 'an': 'inital', 'Speicher': 'inital', 'kÃ¶nnten': 'inital', 'hilfreich': 'inital', 'sein,': 'inital', 'wenn': 'inital', 'nur': 'inital', 'Sprache': 'inital', 'beherrschen': 'inital', 'wÃ¼rden,': 'inital', 'erklÃ¤ren,': 'inital', 'er': 'inital', 'tun': 'inital', 'soll.': 'inital', 'Wenn': 'inital', 'kennen,': 'inital', 'sagen,': 'inital', 'Namen': 'inital', 'Aufgaben': 'inital', 'soll,': 'inital', 'sich': 'inital', 'wiederholen.': 'inital', 'Interessanterweise': 'inital', 'Dinge,': 'inital', 'am': 'inital', 'besten': 'inital', 'oft': 'inital', 'Menschen': 'inital', 'langweilig': 'inital', 'stumpfsinnig': 'inital', 'finden.': 'inital'}\n"
     ]
    }
   ],
   "source": [
    "text = open('words.txt')\n",
    "\n",
    "text_dict = {}\n",
    "for line in text:\n",
    "    words = line.split()\n",
    "    for word in words:\n",
    "        text_dict[word] = 'inital'\n",
    "print(\"Das\" in text_dict)\n",
    "print(text_dict)"
   ],
   "metadata": {
    "collapsed": false,
    "pycharm": {
     "name": "#%%\n"
    }
   }
  },
  {
   "cell_type": "code",
   "execution_count": null,
   "outputs": [],
   "source": [],
   "metadata": {
    "collapsed": false,
    "pycharm": {
     "name": "#%%\n"
    }
   }
  }
 ],
 "metadata": {
  "kernelspec": {
   "display_name": "Python 3",
   "language": "python",
   "name": "python3"
  },
  "language_info": {
   "codemirror_mode": {
    "name": "ipython",
    "version": 2
   },
   "file_extension": ".py",
   "mimetype": "text/x-python",
   "name": "python",
   "nbconvert_exporter": "python",
   "pygments_lexer": "ipython2",
   "version": "2.7.6"
  }
 },
 "nbformat": 4,
 "nbformat_minor": 0
}