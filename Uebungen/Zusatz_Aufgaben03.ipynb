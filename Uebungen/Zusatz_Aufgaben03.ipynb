{
 "cells": [
  {
   "cell_type": "markdown",
   "source": [
    "Zusatzaufgaben des Kurses Business Analytics B aus:\n",
    "Quelle: SEVERANCE, Charles R., 2021. Python für alle: Einführung in die Datenanalyse mit Python 3 \\[online\\]. Verfügbar unter: http://do1.dr-chuck.com/pythonlearn/DE_de/pythonlearn.pdf\n",
    "Kapitel 03 conditional"
   ],
   "metadata": {
    "collapsed": false,
    "pycharm": {
     "name": "#%% md\n"
    }
   }
  },
  {
   "cell_type": "markdown",
   "source": [
    "Übungen\n",
    "Übung 1: Schreiben Sie Ihr Programm zur Lohnberechnung so um, dass ein Mitarbeiter das 1,5-fache des Stundensatzes für Arbeitsstunden über 40 Stunden erhält.\n",
    "Anzahl Arbeitsstunden: 45\n",
    "Stundenlohn: 10\n",
    "Monatsgehalt: 475.0"
   ],
   "metadata": {
    "collapsed": false,
    "pycharm": {
     "name": "#%% md\n"
    }
   }
  },
  {
   "cell_type": "code",
   "execution_count": 13,
   "outputs": [
    {
     "name": "stdout",
     "output_type": "stream",
     "text": [
      "Test Monatsgehalt:  237.5\n"
     ]
    }
   ],
   "source": [
    "arbeitsstunden = float(input(\"Gib deine Arbeitsstunden an: \"))\n",
    "stundensatz = float(input(\"Gib deinen Stundensatz an: \"))\n",
    "if arbeitsstunden > 40:\n",
    "    monatsgehalt = (arbeitsstunden- 40) * stundensatz * 1.5 + 40 * stundensatz\n",
    "else:\n",
    "    monatsgehalt = arbeitsstunden*stundensatz\n",
    "\n",
    "monatsgehalt = round(monatsgehalt,2)\n",
    "print(\"Test Monatsgehalt: \", monatsgehalt)\n"
   ],
   "metadata": {
    "collapsed": false,
    "pycharm": {
     "name": "#%%\n"
    }
   }
  },
  {
   "cell_type": "markdown",
   "source": [
    "**Übung 2: Schreiben Sie Ihr Programm zur Lohnberechnung unter\n",
    "Verwendung von `try` und `except` so um, dass Ihr es nichtnumerische\n",
    "Eingaben elegant behandelt, indem es eine Meldung ausgibt und das\n",
    "Programm beendet. Im Folgenden sehen Sie zwei beispielhafte Ausführungen\n",
    "des Programms:**\n",
    "\n",
    "    Anzahl Arbeitsstunden: 20\n",
    "    Stundenlohn: neun\n",
    "    Fehler, bitte gib eine Zahl ein\n",
    "\n",
    "    Anzahl Arbeitsstunden: vierzig\n",
    "    Fehler, bitte gib eine Zahl ein"
   ],
   "metadata": {
    "collapsed": false,
    "pycharm": {
     "name": "#%% md\n"
    }
   }
  },
  {
   "cell_type": "code",
   "execution_count": 1,
   "outputs": [
    {
     "name": "stdout",
     "output_type": "stream",
     "text": [
      "Fehler, bitte gib eine Zahl ein\n"
     ]
    }
   ],
   "source": [
    "try:\n",
    "    arbeitsstunden = float(input(\"Gib deine Arbeitsstunden an: \"))\n",
    "    stundensatz = float(input(\"Gib deinen Stundensatz an: \"))\n",
    "except:\n",
    "    print(\"Fehler, bitte gib eine Zahl ein\")\n",
    "else:\n",
    "    if arbeitsstunden > 40:\n",
    "        monatsgehalt = (arbeitsstunden- 40) * stundensatz * 1.5 + 40 * stundensatz\n",
    "    else:\n",
    "        monatsgehalt = arbeitsstunden*stundensatz\n",
    "\n",
    "    monatsgehalt = round(monatsgehalt,2)\n",
    "    print(\"Test Monatsgehalt: \", monatsgehalt)\n"
   ],
   "metadata": {
    "collapsed": false,
    "pycharm": {
     "name": "#%%\n"
    }
   }
  },
  {
   "cell_type": "markdown",
   "source": [
    "**Übung 3: Schreiben Sie ein Programm, das nach einem Wert zwischen 0,0\n",
    "und 1,0 fragt. Wenn die Punktzahl außerhalb des Bereichs liegt, geben\n",
    "Sie eine Fehlermeldung aus. Wenn die Punktzahl zwischen 0,0 und 1,0\n",
    "liegt, geben Sie eine Note anhand der folgenden Tabelle aus:**\n",
    "\n",
    "    Punkte   Note\n",
    "    >= 0.9     1\n",
    "    >= 0.8     2\n",
    "    >= 0.7     3\n",
    "    >= 0.6     4\n",
    "     < 0.6     5\n",
    "\n",
    "Führen Sie das Programm wiederholt wie nachfolgend gezeigt aus, um die\n",
    "verschiedenen Werte für die Eingabe zu testen.\n",
    "\n",
    "    Punkte eingeben: 0.95\n",
    "    1\n",
    "\n",
    "    Punkte eingeben: perfekt\n",
    "    Falsche Punktanzahl\n",
    "\n",
    "    Punkte eingeben: 10.0\n",
    "    Falsche Punktanzahl\n",
    "\n",
    "    Punkte eingeben: 0.75\n",
    "    3\n",
    "\n",
    "    Punkte eingeben: 0.5\n",
    "    5"
   ],
   "metadata": {
    "collapsed": false,
    "pycharm": {
     "name": "#%% md\n"
    }
   }
  },
  {
   "cell_type": "code",
   "execution_count": 12,
   "outputs": [
    {
     "name": "stdout",
     "output_type": "stream",
     "text": [
      "1\n"
     ]
    }
   ],
   "source": [
    "try:\n",
    "    user_input = float(input(\"Punkte eingeben: \"))\n",
    "except:\n",
    "    print(\"Falsche Punktzahl\")\n",
    "else:\n",
    "    if user_input > 1.0 or user_input < 0.0:\n",
    "        print(\"Falsche Punktzahl\")\n",
    "    elif user_input >= 0.9:\n",
    "        print(1)\n",
    "    elif user_input >= 0.8:\n",
    "        print(2)\n",
    "    elif user_input >= 0.7:\n",
    "        print(3)\n",
    "    elif user_input >= 0.6:\n",
    "        print(4)\n",
    "    elif user_input < 0.6:\n",
    "        print(5)\n"
   ],
   "metadata": {
    "collapsed": false,
    "pycharm": {
     "name": "#%%\n"
    }
   }
  },
  {
   "cell_type": "markdown",
   "source": [],
   "metadata": {
    "collapsed": false,
    "pycharm": {
     "name": "#%% md\n"
    }
   }
  }
 ],
 "metadata": {
  "kernelspec": {
   "display_name": "Python 3",
   "language": "python",
   "name": "python3"
  },
  "language_info": {
   "codemirror_mode": {
    "name": "ipython",
    "version": 2
   },
   "file_extension": ".py",
   "mimetype": "text/x-python",
   "name": "python",
   "nbconvert_exporter": "python",
   "pygments_lexer": "ipython2",
   "version": "2.7.6"
  }
 },
 "nbformat": 4,
 "nbformat_minor": 0
}