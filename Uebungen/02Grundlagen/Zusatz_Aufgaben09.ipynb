{
 "cells": [
  {
   "cell_type": "markdown",
   "source": [
    "Zusatzaufgaben des Kurses Business Analytics B aus:\n",
    "Quelle: SEVERANCE, Charles R., 2021. Python für alle: Einführung in die Datenanalyse mit Python 3 \\[online\\]. Verfügbar unter: http://do1.dr-chuck.com/pythonlearn/DE_de/pythonlearn.pdf\n",
    "Kapitel 09 dictionaries"
   ],
   "metadata": {
    "collapsed": false,
    "pycharm": {
     "name": "#%% md\n"
    }
   }
  },
  {
   "cell_type": "markdown",
   "source": [
    "**Übung 1: Laden Sie diese Datei herunter:**\n",
    "[tiny.one/py4de/code3/words.txt](https://tiny.one/py4de/code3/words.txt)\n",
    "\n",
    "**Schreiben Sie ein Programm, das die Wörter in `words.txt` liest und\n",
    "sie als Schlüssel in einem Dictionary speichert. Es spielt keine Rolle,\n",
    "wie die Werte lauten. Dann können Sie den `in`-Operator als schnelle\n",
    "Möglichkeit verwenden, um zu prüfen, ob eine Zeichenfolge im Dictionary\n",
    "enthalten ist.**"
   ],
   "metadata": {
    "collapsed": false,
    "pycharm": {
     "name": "#%% md\n"
    }
   }
  },
  {
   "cell_type": "code",
   "execution_count": 6,
   "outputs": [
    {
     "name": "stdout",
     "output_type": "stream",
     "text": [
      "True\n",
      "{'Das': 'inital', 'Schreiben': 'inital', 'von': 'inital', 'Programmen': 'inital', '(oder': 'inital', 'Programmieren)': 'inital', 'ist': 'inital', 'eine': 'inital', 'sehr': 'inital', 'kreative': 'inital', 'und': 'inital', 'lohnende': 'inital', 'TÃ¤tigkeit.': 'inital', 'Wir': 'inital', 'kÃ¶nnen': 'inital', 'Programme': 'inital', 'aus': 'inital', 'vielen': 'inital', 'GrÃ¼nden': 'inital', 'schreiben,': 'inital', 'angefangen': 'inital', 'mit': 'inital', 'dem': 'inital', 'Ziel,': 'inital', 'damit': 'inital', 'den': 'inital', 'Lebensunterhalt': 'inital', 'zu': 'inital', 'verdienen,': 'inital', 'ein': 'inital', 'schwieriges': 'inital', 'Datenanalyseproblem': 'inital', 'lÃ¶sen,': 'inital', 'SpaÃŸ': 'inital', 'haben': 'inital', 'oder': 'inital', 'um': 'inital', 'jemand': 'inital', 'anderem': 'inital', 'bei': 'inital', 'der': 'inital', 'LÃ¶sung': 'inital', 'eines': 'inital', 'Problems': 'inital', 'helfen.': 'inital', 'Dieses': 'inital', 'Buch': 'inital', 'geht': 'inital', 'davon': 'inital', 'aus,': 'inital', 'dass': 'inital', '{\\\\em': 'inital', 'jeder}': 'inital', 'wissen': 'inital', 'sollte,': 'inital', 'wie': 'inital', 'man': 'inital', 'programmiert,': 'inital', 'man,': 'inital', 'sobald': 'inital', 'die': 'inital', 'Programmierung': 'inital', 'beherrscht,': 'inital', 'herausfindet,': 'inital', 'was': 'inital', 'neugewonnenen': 'inital', 'FÃ¤higkeiten': 'inital', 'machen': 'inital', 'kann.': 'inital', 'sind': 'inital', 'in': 'inital', 'unserem': 'inital', 'tÃ¤glichen': 'inital', 'Leben': 'inital', 'Computern': 'inital', 'umgeben,': 'inital', 'Laptops': 'inital', 'bis': 'inital', 'hin': 'inital', 'Handys.': 'inital', 'nehmen': 'inital', 'diese': 'inital', 'Computer': 'inital', 'als': 'inital', 'unsere': 'inital', 'persÃ¶nlichen': 'inital', 'Assistenten': 'inital', 'war,': 'inital', 'viele': 'inital', 'Dinge': 'inital', 'fÃ¼r': 'inital', 'uns': 'inital', 'erledigen': 'inital', 'kÃ¶nnen.': 'inital', 'Die': 'inital', 'Hardware': 'inital', 'unseren': 'inital', 'heutigen': 'inital', 'im': 'inital', 'Wesentlichen': 'inital', 'so': 'inital', 'gebaut,': 'inital', 'sie': 'inital', 'stÃ¤ndig': 'inital', 'Frage': 'inital', 'stellt:': 'inital', 'Was': 'inital', 'soll': 'inital', 'ich': 'inital', 'NÃ¤chstes': 'inital', 'tun?': 'inital', 'Programmierer': 'inital', 'fÃ¼gen': 'inital', 'Betriebssystem': 'inital', 'Reihe': 'inital', 'Anwendungen': 'inital', 'hinzu,': 'inital', 'schon': 'inital', 'wir': 'inital', 'einen': 'inital', 'digitalen': 'inital', 'Assistenten,': 'inital', 'Problemen': 'inital', 'des': 'inital', 'Alltags': 'inital', 'nÃ¼tzlich': 'inital', 'sein': 'inital', 'Unsere': 'inital', 'schnell': 'inital', 'riesige': 'inital', 'Mengen': 'inital', 'an': 'inital', 'Speicher': 'inital', 'kÃ¶nnten': 'inital', 'hilfreich': 'inital', 'sein,': 'inital', 'wenn': 'inital', 'nur': 'inital', 'Sprache': 'inital', 'beherrschen': 'inital', 'wÃ¼rden,': 'inital', 'erklÃ¤ren,': 'inital', 'er': 'inital', 'tun': 'inital', 'soll.': 'inital', 'Wenn': 'inital', 'kennen,': 'inital', 'sagen,': 'inital', 'Namen': 'inital', 'Aufgaben': 'inital', 'soll,': 'inital', 'sich': 'inital', 'wiederholen.': 'inital', 'Interessanterweise': 'inital', 'Dinge,': 'inital', 'am': 'inital', 'besten': 'inital', 'oft': 'inital', 'Menschen': 'inital', 'langweilig': 'inital', 'stumpfsinnig': 'inital', 'finden.': 'inital'}\n"
     ]
    }
   ],
   "source": [
    "text = open('words.txt')\n",
    "\n",
    "text_dict = {}\n",
    "for line in text:\n",
    "    words = line.split()\n",
    "    for word in words:\n",
    "        text_dict[word] = 'inital'\n",
    "print(\"Das\" in text_dict)\n",
    "print(text_dict)"
   ],
   "metadata": {
    "collapsed": false,
    "pycharm": {
     "name": "#%%\n"
    }
   }
  },
  {
   "cell_type": "markdown",
   "source": [
    "## Übungen\n",
    "\n",
    "**Übung 2: Schreiben Sie ein Programm, das jede E-Mail-Nachricht danach\n",
    "kategorisiert, an welchem Wochentag sie versendet wurde. Suchen Sie dazu\n",
    "nach Zeilen, die mit „From“ beginnen, suchen Sie dann nach dem dritten\n",
    "Wort und führen Sie eine laufende Zählung der einzelnen Wochentage\n",
    "durch. Am Ende des Programms geben Sie den Inhalt Ihres Dictionarys aus\n",
    "(die Reihenfolge spielt keine Rolle).**\n",
    "\n",
    "**Sample Line:**\n",
    "\n",
    "    From stephen.marquard@uct.ac.za Sat Jan  5 09:14:16 2008\n",
    "\n",
    "**Beispielzeile:**\n",
    "\n",
    "    python dow.py\n",
    "    Gib eine Datei an: mbox-short.txt\n",
    "    {'Fri': 20, 'Thu': 6, 'Sat': 1}"
   ],
   "metadata": {
    "collapsed": false,
    "pycharm": {
     "name": "#%% md\n"
    }
   }
  },
  {
   "cell_type": "code",
   "execution_count": 8,
   "outputs": [
    {
     "name": "stdout",
     "output_type": "stream",
     "text": [
      "{'Sat': 1, 'Fri': 20, 'Thu': 6}\n"
     ]
    }
   ],
   "source": [
    "mailbox = open('mbox-short.txt')\n",
    "weekdays_frequency ={}\n",
    "for line in mailbox:\n",
    "    words = line.split()\n",
    "    if not words:\n",
    "        continue\n",
    "    if words[0] == \"From\":\n",
    "        weekdays_frequency[words[2]] = weekdays_frequency.get(words[2],0) + 1\n",
    "print(weekdays_frequency)"
   ],
   "metadata": {
    "collapsed": false,
    "pycharm": {
     "name": "#%%\n"
    }
   }
  },
  {
   "cell_type": "markdown",
   "source": [
    "**Übung 3: Schreiben Sie ein Programm, um ein E-Mail-Protokoll zu lesen.\n",
    "Erzeugen Sie ein Histogramm mithilfe eines Dictionarys, um zu zählen,\n",
    "wie viele Nachrichten von den einzelnen E-Mail-Adressen gekommen sind.\n",
    "Geben Sie das Dictionary dann aus.**\n",
    "\n",
    "    Gib eine Datei an: mbox-short.txt\n",
    "    {'gopal.ramasammycook@gmail.com': 1, 'louis@media.berkeley.edu': 3,\n",
    "    'cwen@iupui.edu': 5, 'antranig@caret.cam.ac.uk': 1,\n",
    "    'rjlowe@iupui.edu': 2, 'gsilver@umich.edu': 3,\n",
    "    'david.horwitz@uct.ac.za': 4, 'wagnermr@iupui.edu': 1,\n",
    "    'zqian@umich.edu': 4, 'stephen.marquard@uct.ac.za': 2,\n",
    "    'ray@media.berkeley.edu': 1}"
   ],
   "metadata": {
    "collapsed": false,
    "pycharm": {
     "name": "#%% md\n"
    }
   }
  },
  {
   "cell_type": "code",
   "execution_count": 9,
   "outputs": [
    {
     "name": "stdout",
     "output_type": "stream",
     "text": [
      "{'stephen.marquard@uct.ac.za': 2, 'louis@media.berkeley.edu': 3, 'zqian@umich.edu': 4, 'rjlowe@iupui.edu': 2, 'cwen@iupui.edu': 5, 'gsilver@umich.edu': 3, 'wagnermr@iupui.edu': 1, 'antranig@caret.cam.ac.uk': 1, 'gopal.ramasammycook@gmail.com': 1, 'david.horwitz@uct.ac.za': 4, 'ray@media.berkeley.edu': 1}\n"
     ]
    }
   ],
   "source": [
    "mailbox = open('mbox-short.txt')\n",
    "sender_frequency ={}\n",
    "for line in mailbox:\n",
    "    words = line.split()\n",
    "    if not words:\n",
    "        continue\n",
    "    if words[0] == \"From\":\n",
    "        sender_frequency[words[1]] = sender_frequency.get(words[1],0) + 1\n",
    "print(sender_frequency)"
   ],
   "metadata": {
    "collapsed": false,
    "pycharm": {
     "name": "#%%\n"
    }
   }
  },
  {
   "cell_type": "markdown",
   "source": [
    "**Übung 4: Fügen Sie folgendes dem obigen Programmcode hinzu, um\n",
    "herauszufinden, wer die meisten Nachrichten in der Datei erhalten hat.\n",
    "Nachdem alle Daten gelesen und das Dictionary erstellt wurde,\n",
    "durchsuchen Sie das Dictionary mithilfe einer Schleife nach dem Maximum\n",
    "(siehe Kapitel 5: Maximum und Minimum ermitteln), um herauszufinden, wer\n",
    "die meisten Nachrichten hat, und geben Sie aus, wie viele Nachrichten\n",
    "die Person bekommen hat.**\n",
    "\n",
    "    Gib eine Datei an: mbox-short.txt\n",
    "    cwen@iupui.edu 5\n",
    "\n",
    "    Gib eine Datei an: mbox.txt\n",
    "    zqian@umich.edu 195"
   ],
   "metadata": {
    "collapsed": false,
    "pycharm": {
     "name": "#%% md\n"
    }
   }
  },
  {
   "cell_type": "code",
   "execution_count": 24,
   "outputs": [
    {
     "name": "stdout",
     "output_type": "stream",
     "text": [
      "most frequent sender: 'mbox-short.txt'\n",
      "cwen@iupui.edu 5\n",
      "most frequent sender: 'mbox.txt'\n",
      "zqian@umich.edu 195\n"
     ]
    }
   ],
   "source": [
    "def most_frequent_sender(mailbox):\n",
    "    sender_frequency ={}\n",
    "    for line in mailbox:\n",
    "        words = line.split()\n",
    "        if not words:\n",
    "            continue\n",
    "        if words[0] == \"From\":\n",
    "            sender_frequency[words[1]] = sender_frequency.get(words[1],0) + 1\n",
    "\n",
    "    maximum_sender_value = 0\n",
    "    for key in sender_frequency:\n",
    "        if sender_frequency[key] > maximum_sender_value:\n",
    "            maximum_sender_value = sender_frequency[key]\n",
    "            maximum_sender = key\n",
    "    print(maximum_sender,maximum_sender_value)\n",
    "\n",
    "print(\"most frequent sender: 'mbox-short.txt'\")\n",
    "most_frequent_sender(open('mbox-short.txt'))\n",
    "print(\"most frequent sender: 'mbox.txt'\")\n",
    "most_frequent_sender(open('mbox.txt'))"
   ],
   "metadata": {
    "collapsed": false,
    "pycharm": {
     "name": "#%%\n"
    }
   }
  },
  {
   "cell_type": "markdown",
   "source": [
    "**Übung 5: Dieses Programm zeichnet nur den Domänennamen (anstelle der\n",
    "Adresse) auf, von dem die Nachricht gesendet wurde, also nicht, von\n",
    "welchem konkreten Absender die E-Mail kam (das wäre die gesamte\n",
    "E-Mail-Adresse). Geben Sie am Ende des Programms den Inhalt Ihres\n",
    "Dictionarys aus.**\n",
    "\n",
    "    python schoolcount.py\n",
    "    Gib eine Datei an: mbox-short.txt\n",
    "    {'media.berkeley.edu': 4, 'uct.ac.za': 6, 'umich.edu': 7,\n",
    "    'gmail.com': 1, 'caret.cam.ac.uk': 1, 'iupui.edu': 8}"
   ],
   "metadata": {
    "collapsed": false,
    "pycharm": {
     "name": "#%% md\n"
    }
   }
  },
  {
   "cell_type": "code",
   "execution_count": 35,
   "outputs": [
    {
     "name": "stdout",
     "output_type": "stream",
     "text": [
      "{'@uct.ac.za': 6, '@media.berkeley.edu': 4, '@umich.edu': 7, '@iupui.edu': 8, '@caret.cam.ac.uk': 1, '@gmail.com': 1}\n"
     ]
    }
   ],
   "source": [
    "def frequent_sender_domain(mailbox):\n",
    "    sender_frequency ={}\n",
    "    for line in mailbox:\n",
    "        words = line.split()\n",
    "        if not words:                               #check for empty lines\n",
    "            continue\n",
    "        if words[0] == \"From\":\n",
    "            domain =words[1][words[1].find(\"@\"):]\n",
    "            sender_frequency[domain] = sender_frequency.get(domain,0) + 1\n",
    "    return sender_frequency\n",
    "\n",
    "domain_sender_frequency = frequent_sender_domain(open('mbox-short.txt'))\n",
    "print(domain_sender_frequency)\n"
   ],
   "metadata": {
    "collapsed": false,
    "pycharm": {
     "name": "#%%\n"
    }
   }
  },
  {
   "cell_type": "markdown",
   "source": [],
   "metadata": {
    "collapsed": false,
    "pycharm": {
     "name": "#%% md\n"
    }
   }
  }
 ],
 "metadata": {
  "kernelspec": {
   "display_name": "Python 3",
   "language": "python",
   "name": "python3"
  },
  "language_info": {
   "codemirror_mode": {
    "name": "ipython",
    "version": 2
   },
   "file_extension": ".py",
   "mimetype": "text/x-python",
   "name": "python",
   "nbconvert_exporter": "python",
   "pygments_lexer": "ipython2",
   "version": "2.7.6"
  }
 },
 "nbformat": 4,
 "nbformat_minor": 0
}