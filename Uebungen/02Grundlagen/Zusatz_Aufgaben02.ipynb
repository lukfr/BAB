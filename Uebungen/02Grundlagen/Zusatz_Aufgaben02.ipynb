{
 "cells": [
  {
   "cell_type": "markdown",
   "source": [
    "Zusatzaufgaben des Kurses Business Analytics B aus:\n",
    "Quelle: SEVERANCE, Charles R., 2021. Python für alle: Einführung in die Datenanalyse mit Python 3 \\[online\\]. Verfügbar unter: http://do1.dr-chuck.com/pythonlearn/DE_de/pythonlearn.pdf\n",
    "Kapitel 02 Variables"
   ],
   "metadata": {
    "collapsed": false,
    "pycharm": {
     "name": "#%% md\n"
    }
   }
  },
  {
   "cell_type": "markdown",
   "source": [
    "## Übungen\n",
    "\n",
    "**Übung 2: Schreiben Sie ein Programm, das mit `input` einen Benutzer\n",
    "zur Eingabe seines Namens auffordert und ihn dann begrüßt.**\n",
    "\n",
    "    Gib deinen Namen ein: Heiner\n",
    "    Hallo Heiner"
   ],
   "metadata": {
    "collapsed": false,
    "pycharm": {
     "name": "#%% md\n"
    }
   }
  },
  {
   "cell_type": "code",
   "execution_count": 2,
   "outputs": [
    {
     "name": "stdout",
     "output_type": "stream",
     "text": [
      "Hallo Hansi Flick\n"
     ]
    }
   ],
   "source": [
    "print(\"Hallo\", input(\"Gib deinen Namen ein: \\n\"))"
   ],
   "metadata": {
    "collapsed": false,
    "pycharm": {
     "name": "#%%\n"
    }
   }
  },
  {
   "cell_type": "markdown",
   "source": [
    "**Übung 3: Schreiben Sie ein Programm, das den Benutzer nach\n",
    "Arbeitsstunden und Stundensatz fragt, um den Bruttolohn zu berechnen.**\n",
    "\n",
    "    Gib die Arbeitsstunden an: 35\n",
    "    Gib den Stundensatz an: 2.75\n",
    "    Zahlung: 96.25\n",
    "\n",
    "Wir werden uns erst einmal nicht darum kümmern, dass unsere Auszahlung\n",
    "genau zwei Stellen nach dem Komma hat. Wenn Sie möchten, können Sie mit\n",
    "der eingebauten Python-Funktion `round` experimentieren, um den\n",
    "resultierenden Lohn auf zwei Dezimalstellen zu runden."
   ],
   "metadata": {
    "collapsed": false,
    "pycharm": {
     "name": "#%% md\n"
    }
   }
  },
  {
   "cell_type": "code",
   "execution_count": 5,
   "outputs": [
    {
     "name": "stdout",
     "output_type": "stream",
     "text": [
      "Zahlung:  96.25\n"
     ]
    }
   ],
   "source": [
    "arbeitsstunden = float(input(\"Gib deine Arbeitsstunden an: \"))\n",
    "stundensatz = float(input(\"Gib deinen Stundensatz an: \"))\n",
    "bruttolohn = round(arbeitsstunden*stundensatz,2)\n",
    "print(\"Zahlung: \", bruttolohn)"
   ],
   "metadata": {
    "collapsed": false,
    "pycharm": {
     "name": "#%%\n"
    }
   }
  },
  {
   "cell_type": "markdown",
   "source": [
    "**Übung 4: Angenommen, wir führen die folgenden Zuweisungen aus:**\n",
    "\n",
    "    breite = 17\n",
    "    hoehe = 12.0\n",
    "\n",
    "Schreiben Sie für jeden der folgenden Ausdrücke den Wert des Ausdrucks\n",
    "und den Datentyp (des Wertes des Ausdrucks).\n",
    "\n",
    "1.  `breite//2`\n",
    "\n",
    "2.  `breite/2.0`\n",
    "\n",
    "3.  `hoehe/3`\n",
    "\n",
    "4.  `1 + 2 * 5`\n",
    "\n",
    "Verwenden Sie den Python-Interpreter, um Ihre Antworten zu überprüfen.\n"
   ],
   "metadata": {
    "collapsed": false,
    "pycharm": {
     "name": "#%% md\n"
    }
   }
  },
  {
   "cell_type": "markdown",
   "source": [
    "**Lösung *\n",
    "1. 8\n",
    "2. 8.5\n",
    "3. 4.0\n",
    "4. 11"
   ],
   "metadata": {
    "collapsed": false,
    "pycharm": {
     "name": "#%% md\n"
    }
   }
  },
  {
   "cell_type": "code",
   "execution_count": 9,
   "outputs": [
    {
     "name": "stdout",
     "output_type": "stream",
     "text": [
      "8\n",
      "8.5\n",
      "4.0\n",
      "11\n"
     ]
    }
   ],
   "source": [
    "breite = 17\n",
    "hoehe = 12.0\n",
    "print(breite//2)\n",
    "print(breite/2.0)\n",
    "print(hoehe/3)\n",
    "print(1 + 2 * 5)"
   ],
   "metadata": {
    "collapsed": false,
    "pycharm": {
     "name": "#%%\n"
    }
   }
  },
  {
   "cell_type": "markdown",
   "source": [
    "**Übung 5: Schreiben Sie ein Programm, das den Benutzer zur Eingabe\n",
    "einer Celsius-Temperatur auffordert, die Temperatur in Fahrenheit\n",
    "konvertiert und die konvertierte Temperatur ausgibt.**\n",
    "\n",
    "**Die Umrechnung von Celsius zu Fahrenheit lautet: °F = °C \\* 1,8 + 32**\n",
    "\n",
    "    Gib die Temperatur in Celsius ein: 37\n",
    "    Fahrenheit in 98.6\n"
   ],
   "metadata": {
    "collapsed": false,
    "pycharm": {
     "name": "#%% md\n"
    }
   }
  },
  {
   "cell_type": "code",
   "execution_count": 12,
   "outputs": [
    {
     "name": "stdout",
     "output_type": "stream",
     "text": [
      "Ihre 37.0 ° Celsius sind 98.6 Fahrenheit\n"
     ]
    }
   ],
   "source": [
    "def celsius_into_fahrenheit (temp_C):\n",
    "    temp_F = round(temp_C * 1.8 + 32,1)\n",
    "\n",
    "    return temp_F\n",
    "\n",
    "temp_C = float(input(\"Gib die temperatur in Celsius ein: \"))\n",
    "temp_F = celsius_into_fahrenheit(temp_C)\n",
    "print(\"Ihre\", temp_C, \"° Celsius sind\", temp_F,\"Fahrenheit\")\n"
   ],
   "metadata": {
    "collapsed": false,
    "pycharm": {
     "name": "#%%\n"
    }
   }
  }
 ],
 "metadata": {
  "kernelspec": {
   "display_name": "Python 3",
   "language": "python",
   "name": "python3"
  },
  "language_info": {
   "codemirror_mode": {
    "name": "ipython",
    "version": 2
   },
   "file_extension": ".py",
   "mimetype": "text/x-python",
   "name": "python",
   "nbconvert_exporter": "python",
   "pygments_lexer": "ipython2",
   "version": "2.7.6"
  }
 },
 "nbformat": 4,
 "nbformat_minor": 0
}