{
 "cells": [
  {
   "cell_type": "markdown",
   "source": [
    "Übungen zur 2. Veranstaltung Business Analytics B an der HSD"
   ],
   "metadata": {
    "collapsed": false,
    "pycharm": {
     "name": "#%% md\n"
    }
   }
  },
  {
   "cell_type": "markdown",
   "metadata": {
    "pycharm": {
     "name": "#%% md\n"
    }
   },
   "source": [
    "# Grundlagen Python"
   ]
  },
  {
   "cell_type": "markdown",
   "metadata": {
    "pycharm": {
     "name": "#%% md\n"
    }
   },
   "source": [
    "## Übung \"Hundejahre\"\n",
    "\n",
    "Kinder und Hundeliebhaber stellen sich häufig die Frage, wie alt Ihr Hund wohl wäre, wenn er kein Hund, sondern ein Mensch wäre. Landläufig rechnet man Hundejahre in Menschenjahre um, indem man das Alter des Hundes mit 7 mulipliziert. Je nach Hundegröße und Rasse sieht die Umrechnung jedoch etwas komplizierter aus, z.B.:\n",
    "\n",
    "* Ein einjähriger Hund entspricht in etwa einem 14-jährigen Menschen\n",
    "* 2 Jahre eines Hundes entsprechen 22 Jahre eines Menschen\n",
    "* Ab dann entspricht ein Hundejahr jeweils 5 Menschenjahren\n",
    "\n",
    "Schreiben Sie ein Programm, das das Alter eines Hundes erfragt und dann nach obiger Methode berechnet, welchem Alter in Menschenjahren das entspricht. \n"
   ]
  },
  {
   "cell_type": "code",
   "execution_count": 9,
   "metadata": {
    "pycharm": {
     "name": "#%%\n"
    }
   },
   "outputs": [
    {
     "name": "stdout",
     "output_type": "stream",
     "text": [
      "Das Alter Ihres Hundes entspricht 27 Jahre eines Menschen\n"
     ]
    }
   ],
   "source": [
    "import streamlit\n",
    "\n",
    "eingabe = int(input(\"Wie alt ist Ihr Hund? \"))\n",
    "#Abfrage ob der Hund 1 Jahr alt ist\n",
    "if eingabe == 1:\n",
    "    print(\"Das Alter Ihres Hundes entspricht 14 Jahre eines Menschen\")\n",
    "#Abfrage ob der Hund 2 Jahre alt ist\n",
    "elif eingabe == 2:\n",
    "    print(\"Das Alter Ihres Hundes entspricht 22 Jahre eines Menschen\")\n",
    "#Abfrage ob das Alter korrekt also groesser 0 ist\n",
    "elif (eingabe <= 0):\n",
    "    print(\"Für Alter Ihres Hundes bitte eine Ganzzahl > 0 eingeben\")\n",
    "#Der Hund ist älter als 2\n",
    "else:\n",
    "    #Berechnung des Hundealters\n",
    "    hundealter = 22 + (eingabe - 2) * 5\n",
    "    print(\"Das Alter Ihres Hundes entspricht\",hundealter,\"Jahre eines Menschen\")"
   ]
  },
  {
   "cell_type": "markdown",
   "metadata": {
    "pycharm": {
     "name": "#%% md\n"
    }
   },
   "source": [
    "## Übung \"Quadrierung\"\n",
    "\n",
    "Schreiben Sie ein Programm, das für eine gegebene ganze Zahl n ein dictionary erzeugt und ausgibt, dass von 1 bis n für jede ganze Zahl als Schlüssel das Quadrat der Zahl als Wert enthält. \n",
    "Beispiel:\n",
    "    \n",
    "* Eingabe: 8\n",
    "* Ausgabe: {1: 1, 2: 4, 3: 9, 4: 16, 5: 25, 6: 36, 7: 49, 8: 64}\n",
    "\n",
    "Passen Sie im Anschluss Ihr Programm so an, dass das dictionary nur ungerade Schlüssel enthält. \n",
    "Beispiel:\n",
    "* Eingabe: 8\n",
    "* Ausgabe: {1: 1, 3: 9, 5: 25, 7: 49}"
   ]
  },
  {
   "cell_type": "code",
   "execution_count": 16,
   "metadata": {
    "pycharm": {
     "name": "#%%\n"
    }
   },
   "outputs": [
    {
     "name": "stdout",
     "output_type": "stream",
     "text": [
      "gerade:  {1: 1, 2: 4, 3: 9, 4: 16, 5: 25, 6: 36, 7: 49, 8: 64} ungerade:  {1: 1, 3: 9, 5: 25, 7: 49}\n"
     ]
    }
   ],
   "source": [
    "eingabe = int(input(\"Geben Sie eine Zahl ein: \"))\n",
    "#dictionaries initialisieren\n",
    "quadrate = {}\n",
    "ungerade_quadrate = {}\n",
    "#for Schleife wird so of ausgeführt wie in der Eingabe spezifiziert\n",
    "for zahl in range(eingabe):\n",
    "    #dem dictionary quadrate einen Neuen eintrag hinzufügen mit der Zahl als Schlüssel und deren Quadrat als Wert\n",
    "    quadrate[zahl+1] = (zahl+1)**2\n",
    "    # Abfrage ob die Zahl ungerade ist\n",
    "    if (zahl+1)%2 != 0:\n",
    "        #dem dictionary quadrate einen Neuen eintrag hinzufügen mit der Zahl als Schlüssel und deren Quadrat als Wert\n",
    "        ungerade_quadrate[zahl+1] = (zahl+1)**2\n",
    "print(\"gerade: \",quadrate,\"ungerade: \",ungerade_quadrate)"
   ]
  },
  {
   "attachments": {},
   "cell_type": "markdown",
   "metadata": {
    "pycharm": {
     "name": "#%% md\n"
    }
   },
   "source": [
    "## Übung \"Reverse\"\n",
    "\n",
    "Schreiben Sie ein Programm, dass als Eingabe 2 Zeichenketten erwartet: einen Satz und ein Wort. Als Ausgabe soll das Programm eine neue Zeichenkette ausgeben, bei der das erste Vorkommen des Wortes umgekehrt (d.h. rückwärts geschrieben) ist.\n",
    "Beispiel\n",
    "* Eingabe: \"Python improves my mood very much.\", \"mood\" \n",
    "* Ausgabe: \"Python improves my doom very much.\"\n",
    "\n",
    "Hinweise:\n",
    "* nutzen Sie bei Bedarf vorhandene Standard-Methoden zur String-Verarbeitung (vgl. https://docs.python.org/3/library/stdtypes.html#string-methods)\n",
    "* string[::-1] dreht die Buchstabenreihenfolge eines Strings um"
   ]
  },
  {
   "cell_type": "code",
   "execution_count": 23,
   "metadata": {
    "pycharm": {
     "name": "#%%\n"
    }
   },
   "outputs": [
    {
     "name": "stdout",
     "output_type": "stream",
     "text": [
      "\n"
     ]
    }
   ],
   "source": [
    "#ask user for input\n",
    "sentence = input(\"Please insert a sentence\")\n",
    "word = input(\"Please insert a word which is included in the sentence and should be reversed\")\n",
    "# create a new sentence by adding the sentence before the word, then the reversed word and then the remaining sentence\n",
    "output = sentence[:sentence.find(word)] + word[::-1] + sentence[sentence.find(word) + len(word):]\n",
    "print(output)"
   ]
  },
  {
   "cell_type": "markdown",
   "metadata": {
    "pycharm": {
     "name": "#%% md\n"
    }
   },
   "source": [
    "## Übung \"word distribution\"\n",
    "\n",
    "Schreiben Sie eine Funktion namens `word_distribution`, die eine Zeichenfolge als Parameter nimmt und ein dictionary zurückgibt, das die Häufigkeit jedes Wortes in der Zeichenfolge enthält. \n",
    "\n",
    "Ihre Funktion sollte alle Wörter in Kleinbuchstaben umwandeln und Satzzeichen entfernen, die am Ende eines Wortes vorkommen. \n",
    "Beispiel:\n",
    "* Eingabe: \t\"The main thing is to keep the main thing the main thing.\"\n",
    "* Ausgabe: \t{'the': 3, 'main': 3, 'thing': 3, 'is': 1, 'to': 1, 'keep': 1}\n",
    "\n",
    "Hinweis: \n",
    "* die Funktion `x.isalpha()` gibt `True` zurück, wenn ein Zeichen ein Buchstabe des Alphabets ist und andernfalls `False`.\n"
   ]
  },
  {
   "cell_type": "code",
   "execution_count": 57,
   "outputs": [
    {
     "name": "stdout",
     "output_type": "stream",
     "text": [
      "{'the': 3, 'main': 3, 'thing': 3, 'is': 1, 'to': 1, 'keep': 1}\n"
     ]
    }
   ],
   "source": [
    "#function takes a string as input and returns how often each word is included in the string\n",
    "def word_distribution(string):\n",
    "    word_frequency = {}\n",
    "    #convert all characters of the string to lower case\n",
    "    string = string.lower()\n",
    "    #remove punctuation marks\n",
    "    if not string[-1].isalpha():\n",
    "        string = string[:len(string)-1]\n",
    "    #initalize pointers to the start and end of the last word\n",
    "    last_word_start = -1\n",
    "    last_word_end = -1\n",
    "    #for loop through the string\n",
    "    for chars in range(len(string)):\n",
    "        #set the new start of a word pointer to the current index if no start of a word is found yet and current char is a letter\n",
    "        if last_word_start == -1 and string[chars].isalpha():\n",
    "            last_word_start = chars\n",
    "        #set the new end of a word pointer to the current index if a start of a word is found and current char is not a letter\n",
    "        if last_word_start != -1 and not string[chars].isalpha():\n",
    "            last_word_end = chars\n",
    "        #once the start and end of a word is found\n",
    "        if last_word_end != -1:\n",
    "            #save the found word\n",
    "            word = string[last_word_start:last_word_end]\n",
    "            #add word as key and how often the word appears in the string to the dictionary\n",
    "            word_frequency[word] = string.count(word)\n",
    "            #reset pointers\n",
    "            last_word_start = -1\n",
    "            last_word_end = -1\n",
    "\n",
    "    return word_frequency\n",
    "\n",
    "#Test\n",
    "print (word_distribution(\"The main thing is to keep the main thing the main thing.\"))"
   ],
   "metadata": {
    "collapsed": false,
    "pycharm": {
     "name": "#%%\n"
    }
   }
  },
  {
   "cell_type": "code",
   "execution_count": 8,
   "outputs": [
    {
     "name": "stdout",
     "output_type": "stream",
     "text": [
      "{'the': 3, 'main': 3, 'thing': 3, 'is': 1, 'to': 1, 'keep': 1}\n",
      "The main thing is to keep the main thing the main thing.\n"
     ]
    }
   ],
   "source": [
    "# another way using the str.split function and lists\n",
    "def word_distribution(sentence):\n",
    "    word_frequency = {}\n",
    "    if not sentence[-1].isalpha():                  #remove punctuation marks\n",
    "        sentence = sentence[:len(sentence)-1]\n",
    "    sentence = sentence.lower()\n",
    "    words = sentence.split()\n",
    "    for word in words:\n",
    "        word_frequency[word] = words.count(word)\n",
    "    return word_frequency\n",
    "#Test\n",
    "sentence = \"The main thing is to keep the main thing the main thing.\"\n",
    "print(word_distribution(sentence))\n",
    "print(sentence)\n"
   ],
   "metadata": {
    "collapsed": false,
    "pycharm": {
     "name": "#%%\n"
    }
   }
  }
 ],
 "metadata": {
  "kernelspec": {
   "display_name": "Python 3",
   "language": "python",
   "name": "python3"
  },
  "language_info": {
   "codemirror_mode": {
    "name": "ipython",
    "version": 3
   },
   "file_extension": ".py",
   "mimetype": "text/x-python",
   "name": "python",
   "nbconvert_exporter": "python",
   "pygments_lexer": "ipython3",
   "version": "3.8.8"
  }
 },
 "nbformat": 4,
 "nbformat_minor": 2
}