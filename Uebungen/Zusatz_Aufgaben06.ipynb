{
 "cells": [
  {
   "cell_type": "markdown",
   "source": [
    "Zusatzaufgaben des Kurses Business Analytics B aus:\n",
    "Quelle: SEVERANCE, Charles R., 2021. Python für alle: Einführung in die Datenanalyse mit Python 3 \\[online\\]. Verfügbar unter: http://do1.dr-chuck.com/pythonlearn/DE_de/pythonlearn.pdf\n",
    "Kapitel 06 strings"
   ],
   "metadata": {
    "collapsed": false,
    "pycharm": {
     "name": "#%% md\n"
    }
   }
  },
  {
   "cell_type": "markdown",
   "source": [
    "**Übung 1: Schreiben Sie eine `while`-Schleife, die beim letzten Zeichen\n",
    "in der Zeichenkette beginnt und sich rückwärts bis zum ersten Zeichen in\n",
    "der Zeichenkette vorarbeitet, wobei jeder Buchstabe in einer eigenen\n",
    "Zeile ausgegeben wird, natürlich rückwärts.**"
   ],
   "metadata": {
    "collapsed": false,
    "pycharm": {
     "name": "#%% md\n"
    }
   }
  },
  {
   "cell_type": "code",
   "execution_count": 6,
   "outputs": [
    {
     "name": "stdout",
     "output_type": "stream",
     "text": [
      "t\n",
      "l\n",
      "e\n",
      "W\n",
      " \n",
      "o\n",
      "l\n",
      "l\n",
      "a\n",
      "H\n"
     ]
    }
   ],
   "source": [
    "inp = input(\"Please insert a String: \")\n",
    "element = -1                    #Start at the last char in string\n",
    "while element > -len(inp)-1:    #do while till element is smaller than length of the input string\n",
    "    print(inp[element])\n",
    "    element = element - 1"
   ],
   "metadata": {
    "collapsed": false,
    "pycharm": {
     "name": "#%%\n"
    }
   }
  },
  {
   "cell_type": "markdown",
   "source": [
    "## Zählen mit Schleifen\n",
    "\n",
    "Das folgende Programm zählt, wie oft der Buchstabe „a“ in einer\n",
    "Zeichenkette vorkommt:"
   ],
   "metadata": {
    "collapsed": false,
    "pycharm": {
     "name": "#%% md\n"
    }
   }
  },
  {
   "cell_type": "markdown",
   "source": [],
   "metadata": {
    "collapsed": false,
    "pycharm": {
     "name": "#%% md\n"
    }
   }
  },
  {
   "cell_type": "code",
   "execution_count": null,
   "outputs": [],
   "source": [
    "word = 'Banane'\n",
    "count = 0\n",
    "for zeichen in word:\n",
    "    if zeichen == 'a':\n",
    "        count = count + 1\n",
    "print(count)"
   ],
   "metadata": {
    "collapsed": false,
    "pycharm": {
     "name": "#%%\n"
    }
   }
  },
  {
   "cell_type": "markdown",
   "source": [
    "Dieses Programm demonstriert ein Vorgehen, das man als *Zähler*\n",
    "bezeichnet könnte. Die Variable `count` wird mit 0 initialisiert und\n",
    "dann jedes Mal inkrementiert, wenn ein `'a'` gefunden wird. Wenn die\n",
    "Schleife beendet wird, enthält `count` das Ergebnis: die Gesamtzahl der\n",
    "„a’s“.\n",
    "\n",
    "**Übung 3: Lagern Sie diesen Code in eine Funktion namens `count` aus,\n",
    "und verallgemeinern Sie diese so, dass sie die Zeichenkette und den\n",
    "Buchstaben als Argumente akzeptiert.**\n"
   ],
   "metadata": {
    "collapsed": false,
    "pycharm": {
     "name": "#%% md\n"
    }
   }
  },
  {
   "cell_type": "code",
   "execution_count": 8,
   "outputs": [
    {
     "name": "stdout",
     "output_type": "stream",
     "text": [
      "Count:  3\n"
     ]
    }
   ],
   "source": [
    "def count (word, letter):\n",
    "    count = 0\n",
    "    for chars in word:\n",
    "        if chars == letter:\n",
    "            count += 1\n",
    "    return count\n",
    "\n",
    "#Test\n",
    "word = input(\"Enter a Word\")\n",
    "letter = input(\"Enter the letter which should be counted: \")\n",
    "print(\"Count: \",count(word,letter))"
   ],
   "metadata": {
    "collapsed": false,
    "pycharm": {
     "name": "#%%\n"
    }
   }
  },
  {
   "cell_type": "markdown",
   "source": [
    "**Übung 4: Es gibt eine String-Methode namens `count`, die der Funktion\n",
    "in der vorherigen Übung ähnlich ist. Lesen Sie die Dokumentation zu\n",
    "dieser Methode unter:**\n",
    "\n",
    "<https://docs.python.org/library/stdtypes.html#string-methods>\n",
    "\n",
    "**Schreiben Sie ein Programm, das die Anzahl der Vorkommen des\n",
    "Buchstabens „a“ in „Banane“ mithilfe der count-Methode zählt.**"
   ],
   "metadata": {
    "collapsed": false,
    "pycharm": {
     "name": "#%% md\n"
    }
   }
  },
  {
   "cell_type": "code",
   "execution_count": 9,
   "outputs": [
    {
     "data": {
      "text/plain": "2"
     },
     "execution_count": 9,
     "metadata": {},
     "output_type": "execute_result"
    }
   ],
   "source": [
    "word = \"Banane\"\n",
    "word.count('a')"
   ],
   "metadata": {
    "collapsed": false,
    "pycharm": {
     "name": "#%%\n"
    }
   }
  },
  {
   "cell_type": "markdown",
   "source": [
    "## Übungen\n",
    "\n",
    "**Übung 5: Nehmen Sie den folgenden Python-Code, der eine Zeichenkette\n",
    "speichert:**\n",
    "\n",
    "`str = 'X-DSPAM-Confidence:`**`0.8475`**`'`\n",
    "\n",
    "**Verwenden Sie `find` und String-Slicing, um den Teil der Zeichenkette\n",
    "nach dem Doppelpunkt zu extrahieren, und verwenden Sie dann die Funktion\n",
    "`float`, um die extrahierte Teilzeichenkette in eine Fließkommazahl zu\n",
    "konvertieren.**"
   ],
   "metadata": {
    "collapsed": false,
    "pycharm": {
     "name": "#%% md\n"
    }
   }
  },
  {
   "cell_type": "code",
   "execution_count": 12,
   "outputs": [
    {
     "name": "stdout",
     "output_type": "stream",
     "text": [
      "0.8475\n"
     ]
    }
   ],
   "source": [
    "str = 'X-DSPAM-Confidence:0.8475'\n",
    "substring = float(str[str.find(\":\")+1:])\n",
    "print(substring)"
   ],
   "metadata": {
    "collapsed": false,
    "pycharm": {
     "name": "#%%\n"
    }
   }
  }
 ],
 "metadata": {
  "kernelspec": {
   "display_name": "Python 3",
   "language": "python",
   "name": "python3"
  },
  "language_info": {
   "codemirror_mode": {
    "name": "ipython",
    "version": 2
   },
   "file_extension": ".py",
   "mimetype": "text/x-python",
   "name": "python",
   "nbconvert_exporter": "python",
   "pygments_lexer": "ipython2",
   "version": "2.7.6"
  }
 },
 "nbformat": 4,
 "nbformat_minor": 0
}