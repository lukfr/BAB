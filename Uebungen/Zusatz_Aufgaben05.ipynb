{
 "cells": [
  {
   "cell_type": "markdown",
   "source": [
    "Zusatzaufgaben des Kurses Business Analytics B aus:\n",
    "Quelle: SEVERANCE, Charles R., 2021. Python für alle: Einführung in die Datenanalyse mit Python 3 \\[online\\]. Verfügbar unter: http://do1.dr-chuck.com/pythonlearn/DE_de/pythonlearn.pdf\n",
    "Kapitel 05 iterations"
   ],
   "metadata": {
    "collapsed": false,
    "pycharm": {
     "name": "#%% md\n"
    }
   }
  },
  {
   "cell_type": "markdown",
   "source": [
    "## Übungen\n",
    "\n",
    "**Übung 1: Schreiben Sie ein Programm, das wiederholt Zahlen einliest,\n",
    "bis der Benutzer den Befehl `done` eingibt. Sobald `done` eingegeben\n",
    "wurde, geben Sie die Summe, die Anzahl und den Durchschnitt der Zahlen\n",
    "aus. Wenn der Benutzer etwas anderes als eine Zahl eingibt, erkennen Sie\n",
    "seinen Fehler mit `try` und `except` und geben eine Fehlermeldung aus\n",
    "und springen zur nächsten Zahl.**\n",
    "\n",
    "    Bitte eine Zahl eingeben: 4\n",
    "    Bitte eine Zahl eingeben: 5\n",
    "    Bitte eine Zahl eingeben: sechs\n",
    "    Ungueltige Eingabe\n",
    "    Bitte eine Zahl eingeben: 7\n",
    "    Bitte eine Zahl eingeben: done\n",
    "    16 3 5.333333333333333"
   ],
   "metadata": {
    "collapsed": false,
    "pycharm": {
     "name": "#%% md\n"
    }
   }
  },
  {
   "cell_type": "code",
   "execution_count": 13,
   "outputs": [
    {
     "name": "stdout",
     "output_type": "stream",
     "text": [
      "Count:  0\n",
      "No avarage as numbers where input\n"
     ]
    }
   ],
   "source": [
    "numbers =[]\n",
    "while True:\n",
    "    try:\n",
    "        inp = input(\"Please insert a number or done: \")\n",
    "        if not numbers and inp == \"done\":                   # if first input is \"done\n",
    "            print(\"Count: \",len(numbers))\n",
    "            print(\"No avarage as numbers where input\")\n",
    "            break\n",
    "        elif inp == \"done\":                                 #end while when input is \"done\"\n",
    "            print(\"Count: \",len(numbers))\n",
    "            print(\"Average: \",sum(numbers)/len(numbers))\n",
    "            break\n",
    "        else:                                              #convert input to float if error continue while\n",
    "            inp = float(inp)\n",
    "    except:\n",
    "        print(\" Error not a number or done\")\n",
    "        continue\n",
    "    numbers.append(inp)"
   ],
   "metadata": {
    "collapsed": false,
    "pycharm": {
     "name": "#%%\n"
    }
   }
  },
  {
   "cell_type": "markdown",
   "source": [
    "**Übung 2: Schreiben Sie ein weiteres Programm, das eine Liste von\n",
    "Zahlen wie oben abfragt und am Ende sowohl das Maximum als auch das\n",
    "Minimum der Zahlen anstelle des Durchschnitts ausgibt.**"
   ],
   "metadata": {
    "collapsed": false,
    "pycharm": {
     "name": "#%% md\n"
    }
   }
  },
  {
   "cell_type": "code",
   "execution_count": 16,
   "outputs": [
    {
     "name": "stdout",
     "output_type": "stream",
     "text": [
      " Error not a number or done\n",
      "Count:  3\n",
      "Maximum:  25.0\n",
      "Minimum:  3.0\n"
     ]
    }
   ],
   "source": [
    "numbers =[]\n",
    "while True:\n",
    "    try:\n",
    "        inp = input(\"Please insert a number or done: \")\n",
    "        if not numbers and inp == \"done\":                   # if first input is \"done\n",
    "            print(\"Count: \", len(numbers))\n",
    "            print(\"No Min or Max as numbers where input\")\n",
    "            break\n",
    "        elif inp == \"done\":                                 #end while when input is \"done\"\n",
    "            print(\"Count: \", len(numbers))\n",
    "            print(\"Maximum: \", max(numbers))\n",
    "            print(\"Minimum: \", min(numbers))\n",
    "            break\n",
    "        else:                                              #convert input to float if error continue while\n",
    "            inp = float(inp)\n",
    "    except:\n",
    "        print(\" Error not a number or done\")\n",
    "        continue\n",
    "    numbers.append(inp)"
   ],
   "metadata": {
    "collapsed": false,
    "pycharm": {
     "name": "#%%\n"
    }
   }
  }
 ],
 "metadata": {
  "kernelspec": {
   "display_name": "Python 3",
   "language": "python",
   "name": "python3"
  },
  "language_info": {
   "codemirror_mode": {
    "name": "ipython",
    "version": 2
   },
   "file_extension": ".py",
   "mimetype": "text/x-python",
   "name": "python",
   "nbconvert_exporter": "python",
   "pygments_lexer": "ipython2",
   "version": "2.7.6"
  }
 },
 "nbformat": 4,
 "nbformat_minor": 0
}